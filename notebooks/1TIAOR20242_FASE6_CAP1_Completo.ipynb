{
  "cells": [
    {
      "cell_type": "markdown",
      "id": "43cc36c9",
      "metadata": {
        "id": "43cc36c9"
      },
      "source": [
        "# Detecção de Veículos com YOLOv5 Adaptado (Treinamento e Avaliação)  \n",
        "### Referente à Entrega 1 do Projeto PBL - Fase 6"
      ]
    },
    {
      "cell_type": "markdown",
      "id": "dlZgVEjGUUJh",
      "metadata": {
        "id": "dlZgVEjGUUJh"
      },
      "source": [
        "## PBL Fase 6 – Visão Computacional com YOLOv5"
      ]
    },
    {
      "cell_type": "markdown",
      "id": "Q01fp5q0VfrQ",
      "metadata": {
        "id": "Q01fp5q0VfrQ"
      },
      "source": [
        "### Reconhecimento de Veículos: Carros e Motos\n",
        "\n",
        "Este notebook apresenta o desenvolvimento de um sistema de visão computacional utilizando a arquitetura YOLOv5 para detectar e classificar dois tipos de veículos: carros e motos. A atividade faz parte da Fase 6 do Projeto Baseado em Problemas (PBL) da FIAP, no contexto da empresa fictícia FarmTech Solutions, que está explorando o uso de inteligência artificial em aplicações de segurança patrimonial e automação.\n",
        "\n",
        "O objetivo principal é treinar um modelo YOLOv5 com base em imagens rotuladas manualmente e avaliar seu desempenho na detecção dos objetos escolhidos. O projeto envolve também a comparação de resultados com diferentes quantidades de épocas de treinamento.\n",
        "\n",
        "### Objetivos do notebook\n",
        "\n",
        "- Organizar e utilizar um dataset rotulado manualmente.\n",
        "- Treinar um modelo YOLOv5 com 30 e 60 épocas.\n",
        "- Avaliar acurácia, perda e desempenho.\n",
        "- Realizar inferência em imagens de teste.\n",
        "- Apresentar conclusões com base nos resultados obtidos.\n",
        "\n",
        "### Aquisição e preparação do dataset\n",
        "\n",
        "Para este projeto, foram utilizadas imagens de dois objetos distintos: **carros** e **motos**. As imagens foram obtidas manualmente a partir de pesquisas com licenciamento livre (Creative Commons) e screenshots, priorizando variedade de ângulos e contextos.\n",
        "\n",
        "Após a coleta, foram selecionadas:\n",
        "\n",
        "- 40 imagens de carros\n",
        "- 40 imagens de motos\n",
        "\n",
        "As imagens foram rotuladas manualmente utilizando a plataforma [MakeSense.ai](https://www.makesense.ai/), onde foram desenhadas as bounding boxes para cada objeto identificado e atribuídos os rótulos correspondentes.\n",
        "\n",
        "A estrutura final do dataset foi organizada conforme o padrão exigido pelo YOLOv5, separando as imagens e seus respectivos rótulos em três conjuntos:\n",
        "\n",
        "- **Treinamento**: 32 imagens de cada classe (total de 64)\n",
        "- **Validação**: 4 imagens de cada classe (total de 8)\n",
        "- **Teste**: 4 imagens de cada classe (total de 8)\n",
        "\n",
        "As pastas estão organizadas da seguinte forma:\n",
        "\n",
        "```\n",
        "📦 1TIAOR20242_FASE6_CAP1\n",
        "│── 📁 dataset_images               # Pasta principal contendo imagens e labels\n",
        "│   ├── 📁 images                   # Subpasta com as imagens divididas em conjuntos\n",
        "│   │   ├── 📁 train                # Imagens utilizadas no treinamento (64 imagens)\n",
        "│   │   ├── 📁 val                  # Imagens utilizadas na validação (8 imagens)\n",
        "│   │   ├── 📁 test                 # Imagens utilizadas para avaliação final (8 imagens)\n",
        "│   ├── 📁 labels                   # Subpasta com os arquivos de rótulo no formato YOLO\n",
        "│   │   ├── 📁 train                # Labels correspondentes às imagens de treinamento\n",
        "│   │   ├── 📁 val                  # Labels correspondentes às imagens de validação\n",
        "│   │   ├── 📁 test                 # Labels correspondentes às imagens de teste\n",
        "│── 📄 veiculos.yaml                # Arquivo de configuração que define caminhos, número de classes e seus nomes\n",
        "```\n",
        "### Estrutura deste notebook\n",
        "\n",
        "1. Verificação da disponibilidade de GPU\n",
        "2. Conexão com o Google Drive e preparação do ambiente\n",
        "3. Clonagem do repositório YOLOv5 e instalação das dependências\n",
        "4. Treinamento do modelo com 30 épocas\n",
        "5. Treinamento do modelo com 60 épocas\n",
        "6. Comparação dos resultados\n",
        "7. Inferência no conjunto de teste\n",
        "8. Conclusões"
      ]
    },
    {
      "cell_type": "markdown",
      "id": "p3PYwHLEGF8I",
      "metadata": {
        "id": "p3PYwHLEGF8I"
      },
      "source": [
        "### Verificação da disponibilidade de GPU\n"
      ]
    },
    {
      "cell_type": "markdown",
      "id": "IC3lJ-TAVY4o",
      "metadata": {
        "id": "IC3lJ-TAVY4o"
      },
      "source": [
        "Antes de prosseguir com a montagem do ambiente e instalação das dependências, é importante verificar se o ambiente Colab está configurado com GPU.\n",
        "\n",
        "O uso da GPU é altamente recomendado para o treinamento de modelos de detecção de objetos, pois reduz significativamente o tempo de execução. Caso a GPU não esteja habilitada, será necessário alterar o tipo de ambiente e reiniciar o notebook."
      ]
    },
    {
      "cell_type": "code",
      "execution_count": null,
      "id": "h6Tvt95DGI_5",
      "metadata": {
        "colab": {
          "base_uri": "https://localhost:8080/"
        },
        "id": "h6Tvt95DGI_5",
        "outputId": "5d541cd6-7841-4c9b-e585-37754007260b"
      },
      "outputs": [],
      "source": [
        "import torch\n",
        "\n",
        "if torch.cuda.is_available():\n",
        "    device_name = torch.cuda.get_device_name(0)\n",
        "    print(\"\\033[92m✅ GPU disponível:\\033[0m\", device_name)\n",
        "    print(\"O ambiente está configurado corretamente. Você pode prosseguir com as próximas etapas.\")\n",
        "else:\n",
        "    print(\"\\033[91m❌ ATENÇÃO: GPU não disponível. O notebook está executando em CPU.\\033[0m\\n\")\n",
        "    print(\"❗ O treinamento com YOLOv5 em CPU pode ser extremamente lento e está sujeito a interrupções por tempo limite.\")\n",
        "    print(\"\\n\\033[1mRecomendações:\\033[0m\")\n",
        "    print(\"- Vá até o menu 'Ambiente de execução > Alterar tipo de ambiente de execução'\")\n",
        "    print(\"- Selecione 'GPU' como acelerador de hardware e clique em 'Salvar'\")\n",
        "    print(\"- O ambiente será reiniciado. Após a reinicialização, reexecute esta célula antes de continuar.\")\n"
      ]
    },
    {
      "cell_type": "markdown",
      "id": "12bec74d",
      "metadata": {
        "id": "12bec74d"
      },
      "source": [
        "### Conexão com o Google Drive\n"
      ]
    },
    {
      "cell_type": "markdown",
      "id": "_9ni0qhYVTn0",
      "metadata": {
        "id": "_9ni0qhYVTn0"
      },
      "source": [
        "Nesta etapa, vamos conectar o ambiente do Google Colab com a conta do Google Drive onde o dataset e os arquivos de configuração estão armazenados.\n",
        "\n",
        "Essa conexão permite que o notebook tenha acesso direto aos arquivos necessários para o treinamento, validação e testes do modelo, como imagens, rótulos e o arquivo de configuração `.yaml`."
      ]
    },
    {
      "cell_type": "code",
      "execution_count": null,
      "id": "f0efc998",
      "metadata": {
        "colab": {
          "base_uri": "https://localhost:8080/"
        },
        "id": "f0efc998",
        "outputId": "01e53572-c0fd-4c92-faff-7a357b384c92"
      },
      "outputs": [],
      "source": [
        "import os\n",
        "\n",
        "# Verifica se o ambiente é Google Colab ou local\n",
        "try:\n",
        "    # Verifica se está no Google Colab\n",
        "    from google.colab import drive\n",
        "    print(\"✅ Executando no Google Colab\")\n",
        "\n",
        "    # Verifica se o Google Drive já está montado\n",
        "    if not os.path.exists('/content/drive/MyDrive'):\n",
        "        print(\"🔄 Google Drive não está montado. Montando agora...\")\n",
        "        drive.mount('/content/drive')\n",
        "    else:\n",
        "        drive.mount('/content/drive', force_remount=True)\n",
        "        print(\"✅ Google Drive já está montado.\")\n",
        "\n",
        "    # Caminho no Google Drive\n",
        "    dataset_dir = \"/content/drive/MyDrive/1TIAOR20242_FASE6_CAP1\"\n",
        "    yaml_filename = \"veiculos.yaml\"\n",
        "\n",
        "    # Verifica se o arquivo veiculos.yaml existe\n",
        "    if not os.path.exists(f\"{dataset_dir}/veiculos.yaml\"):\n",
        "        raise FileNotFoundError(f\"Arquivo não encontrado: {dataset_dir}/veiculos.yaml\")\n",
        "except ImportError:\n",
        "    # Caso não esteja no Colab, executa localmente\n",
        "    print(\"✅ Executando localmente\")\n",
        "\n",
        "    # Caminho local\n",
        "    dataset_dir = os.path.abspath(\"../\")\n",
        "    yaml_filename = \"veiculos_local.yaml\"\n",
        "\n",
        "    # Verifica se o arquivo veiculos.yaml existe\n",
        "    if not os.path.exists(f\"{dataset_dir}/configuration/{yaml_filename}\"):\n",
        "        # Ajusta o caminho descendo um nível\n",
        "        dataset_dir = os.path.abspath(\"../../\")\n",
        "        if not os.path.exists(f\"{dataset_dir}/configuration/{yaml_filename}\"):\n",
        "            raise FileNotFoundError(f\"Arquivo não encontrado: {dataset_dir}/configuration/{yaml_filename}\")\n",
        "\n",
        "# Exemplo de uso do caminho\n",
        "print(f\"Caminho dos Datasets: {dataset_dir}\")\n",
        "print(f\"Nome do Arquivo para Yolo: {yaml_filename}\")"
      ]
    },
    {
      "cell_type": "markdown",
      "id": "ZX9x4sVDCyuB",
      "metadata": {
        "id": "ZX9x4sVDCyuB"
      },
      "source": [
        "### Clonagem do repositório YOLOv5\n"
      ]
    },
    {
      "cell_type": "markdown",
      "id": "521e9c4a",
      "metadata": {
        "id": "521e9c4a"
      },
      "source": [
        "Nesta etapa, clonamos o repositório oficial do YOLOv5, mantido pela Ultralytics. Esse repositório contém os scripts de treinamento, validação e inferência, além de arquivos de configuração e exemplos práticos.\n",
        "\n",
        "A clonagem cria uma cópia local do repositório no ambiente de execução do Google Colab."
      ]
    },
    {
      "cell_type": "code",
      "execution_count": null,
      "id": "1da43792",
      "metadata": {
        "colab": {
          "base_uri": "https://localhost:8080/"
        },
        "id": "1da43792",
        "outputId": "5e771606-dfe4-4bc8-82d6-721f8e0428bc"
      },
      "outputs": [],
      "source": [
        "# Clonar o repositório oficial do YOLOv5\n",
        "!git clone https://github.com/ultralytics/yolov5"
      ]
    },
    {
      "cell_type": "markdown",
      "id": "NlgwgearDRHx",
      "metadata": {
        "id": "NlgwgearDRHx"
      },
      "source": [
        "### Instalação das dependências\n"
      ]
    },
    {
      "cell_type": "markdown",
      "id": "pnMx6poMVCaI",
      "metadata": {
        "id": "pnMx6poMVCaI"
      },
      "source": [
        "Após a clonagem do repositório, é necessário instalar as dependências listadas no arquivo `requirements.txt`, presente no diretório do YOLOv5.\n",
        "\n",
        "Essas bibliotecas são responsáveis por garantir o funcionamento adequado dos scripts de treinamento e inferência."
      ]
    },
    {
      "cell_type": "code",
      "execution_count": null,
      "id": "168c8b56",
      "metadata": {
        "colab": {
          "base_uri": "https://localhost:8080/"
        },
        "id": "168c8b56",
        "outputId": "0e46092c-600d-4b3c-a2e9-c2340be4c95b"
      },
      "outputs": [],
      "source": [
        "# !pip install -r requirements.txt\n",
        "import subprocess\n",
        "\n",
        "def install_dependencies():\n",
        "    try:\n",
        "        # Executa o comando de instalação e suprime a saída\n",
        "        result = subprocess.run(\n",
        "            [\"pip\", \"install\", \"-r\", \"yolov5/requirements.txt\"],\n",
        "            stdout=subprocess.PIPE,  # Suprime a saída padrão\n",
        "            stderr=subprocess.PIPE,  # Suprime a saída de erro\n",
        "            text=True,\n",
        "            check=True  # Levanta uma exceção se o comando falhar\n",
        "        )\n",
        "        print(\"✅ Instalação concluída com sucesso!\")\n",
        "    except subprocess.CalledProcessError as e:\n",
        "        print(\"❌ Erro durante a instalação.\")\n",
        "        print(f\"Detalhes do erro: {e.stderr}\")\n",
        "\n",
        "# Chama a função para instalar as dependências\n",
        "install_dependencies()"
      ]
    },
    {
      "cell_type": "markdown",
      "id": "upOADmFjDhdd",
      "metadata": {
        "id": "upOADmFjDhdd"
      },
      "source": [
        "### Treinamento do modelo com 30 épocas (YOLOv5 adaptado)\n"
      ]
    },
    {
      "cell_type": "markdown",
      "id": "w340HulCU9Dx",
      "metadata": {
        "id": "w340HulCU9Dx"
      },
      "source": [
        "Nesta etapa será realizado o primeiro treinamento do modelo YOLOv5 com 30 épocas, utilizando o dataset rotulado manualmente com imagens de carros e motos.\n",
        "\n",
        "Este modelo será utilizado posteriormente na comparação com um segundo treinamento, com 60 épocas, a fim de observar os efeitos do tempo de treinamento na precisão e no desempenho do modelo.\n",
        "\n",
        "As métricas e o tempo de execução serão armazenados para análise comparativa entre os dois modelos."
      ]
    },
    {
      "cell_type": "code",
      "execution_count": null,
      "id": "194661c6",
      "metadata": {
        "id": "194661c6",
        "outputId": "1ca68e3e-2917-416d-dd68-90800a7993f8"
      },
      "outputs": [],
      "source": [
        "import os\n",
        "print(f'{dataset_dir}/{yaml_filename}')\n",
        "print(os.path.exists(f'{dataset_dir}/configuration/{yaml_filename}'))"
      ]
    },
    {
      "cell_type": "code",
      "execution_count": null,
      "id": "1fc4b2d0",
      "metadata": {
        "id": "1fc4b2d0",
        "outputId": "f945fe7d-7281-4fe6-8044-c2e1ad70afd3"
      },
      "outputs": [],
      "source": [
        "import subprocess\n",
        "import time\n",
        "\n",
        "# Caminho do arquivo de log\n",
        "nome_treinamento = \"veiculos_yolo_30ep\"\n",
        "\n",
        "log_file_path = f'{nome_treinamento}.log'\n",
        "\n",
        "# Parâmetros utilizados:\n",
        "# --img: define o tamanho das imagens de entrada (640x640 pixels)\n",
        "# --batch: número de imagens processadas por vez (tamanho do lote)\n",
        "# --epochs: número total de épocas de treinamento\n",
        "# --data: caminho do arquivo .yaml com o dataset e classes\n",
        "# --weights: modelo base pré-treinado (YOLOv5s)\n",
        "# --name: nome da pasta onde os resultados serão salvos\n",
        "\n",
        "# Comando de treinamento\n",
        "command = [\n",
        "    \"python\", \"./yolov5/train.py\",\n",
        "    \"--img\", \"640\",\n",
        "    \"--batch\", \"16\",\n",
        "    \"--epochs\", \"30\",\n",
        "    \"--data\", f\"{dataset_dir}/configuration/{yaml_filename}\",\n",
        "    \"--weights\", \"yolov5s.pt\",\n",
        "    \"--name\", f\"{nome_treinamento}\"\n",
        "]\n",
        "\n",
        "# Função para executar o comando e monitorar o processo\n",
        "def executar_treinamento(command, log_file_path):\n",
        "    with open(log_file_path, \"w\") as log_file:\n",
        "        try:\n",
        "            # Inicia o processo\n",
        "            process = subprocess.Popen(\n",
        "                command,\n",
        "                stdout=log_file,  # Redireciona stdout para o arquivo de log\n",
        "                stderr=log_file,  # Redireciona stderr para o arquivo de log\n",
        "                text=True\n",
        "            )\n",
        "\n",
        "            print(f\"Treinamento {nome_treinamento} iniciado. Acompanhe o progresso no arquivo de log.\")\n",
        "\n",
        "            # Verifica se o processo ainda está em execução\n",
        "            pontos = \"\"  # String para acumular os pontos\n",
        "            while process.poll() is None:\n",
        "                pontos += \".\"  # Adiciona um ponto a cada iteração\n",
        "                print(f\"Treinamento em andamento{pontos}\", end=\"\\r\")  # Atualiza na mesma linha\n",
        "                time.sleep(10)  # Aguarda 10 segundos antes de verificar novamente\n",
        "\n",
        "            # Verifica o código de saída\n",
        "            if process.returncode == 0:\n",
        "                print(f\"Treinamento {nome_treinamento} concluído com sucesso!\")\n",
        "            else:\n",
        "                print(f\"Erro durante o treinamento {nome_treinamento}. Verifique o log: {log_file_path}\")\n",
        "        except Exception as e:\n",
        "            print(f\"Erro ao executar o comando: {e}\")\n",
        "\n",
        "\n",
        "# Marca o tempo de início do treinamento\n",
        "inicio = time.time()\n",
        "\n",
        "# Executa o treinamento\n",
        "executar_treinamento(command, f'./logs/{log_file_path}')\n",
        "\n",
        "# Marca o tempo de término e calcula a duração\n",
        "fim = time.time()\n",
        "duracao = fim - inicio\n",
        "print(f\"Tempo de treinamento (30 épocas): {duracao:.2f} segundos\")"
      ]
    },
    {
      "cell_type": "markdown",
      "id": "pBRAUifnED0F",
      "metadata": {
        "id": "pBRAUifnED0F"
      },
      "source": [
        "#### Análise dos resultados do treinamento (30 épocas)\n"
      ]
    },
    {
      "cell_type": "markdown",
      "id": "Uj6OS5m2U5mw",
      "metadata": {
        "id": "Uj6OS5m2U5mw"
      },
      "source": [
        "A imagem gerada pelo YOLOv5 contém as curvas de perda (loss), precisão, recall, mAP e outras métricas relevantes coletadas durante o processo de treinamento.\n",
        "\n",
        "Essa visualização ajuda a identificar se o modelo está convergindo corretamente e a verificar sinais de overfitting ou subajuste."
      ]
    },
    {
      "cell_type": "code",
      "execution_count": null,
      "id": "b6d10b1a",
      "metadata": {
        "colab": {
          "base_uri": "https://localhost:8080/"
        },
        "id": "b6d10b1a",
        "outputId": "dd0b94a9-5dd9-4aa1-e45a-a7881368eded"
      },
      "outputs": [],
      "source": [
        "from IPython.display import Image, display\n",
        "\n",
        "# Exibe o gráfico de métricas do treinamento\n",
        "display(Image(filename=f'./yolov5/runs/train/{nome_treinamento}/results.png', width=1200))\n"
      ]
    },
    {
      "cell_type": "markdown",
      "id": "DtWp75P-L-6l",
      "metadata": {
        "id": "DtWp75P-L-6l"
      },
      "source": [
        "#### Inferência no conjunto de teste (modelo com 30 épocas)\n"
      ]
    },
    {
      "cell_type": "markdown",
      "id": "SEe55-uNU18Q",
      "metadata": {
        "id": "SEe55-uNU18Q"
      },
      "source": [
        "Nesta etapa, utilizamos o modelo YOLOv5 treinado com 30 épocas para realizar inferência nas imagens do conjunto de teste. O objetivo é observar o desempenho do modelo em imagens não vistas anteriormente.\n",
        "\n",
        "O tempo total de execução será registrado para fins comparativos com outras versões e abordagens, conforme exigido na Entrega 2."
      ]
    },
    {
      "cell_type": "code",
      "execution_count": null,
      "id": "29ace33a",
      "metadata": {
        "colab": {
          "base_uri": "https://localhost:8080/"
        },
        "id": "29ace33a",
        "outputId": "fea668a9-4b8c-44e0-8e51-97ce2c51112d"
      },
      "outputs": [],
      "source": [
        "import time\n",
        "\n",
        "# Parâmetros utilizados:\n",
        "# --weights: caminho para o modelo treinado (melhor versão salva durante o treino de 30 épocas)\n",
        "# --img: tamanho das imagens usadas na inferência (em pixels)\n",
        "# --conf: nível mínimo de confiança para exibir uma detecção\n",
        "# --source: diretório com as imagens de teste\n",
        "# --name: nome da pasta de saída (dentro de runs/detect)\n",
        "\n",
        "# Marca o início da inferência\n",
        "inicio = time.time()\n",
        "\n",
        "# Executa a inferência com o modelo treinado\n",
        "!python ./yolov5/detect.py \\\n",
        "  --weights ./yolov5/runs/train/{nome_treinamento}/weights/best.pt \\\n",
        "  --img 640 \\\n",
        "  --conf 0.25 \\\n",
        "  --source {dataset_dir}/dataset_images/images/test \\\n",
        "  --name {nome_treinamento}_test\n",
        "\n",
        "# Marca o fim e calcula a duração\n",
        "fim = time.time()\n",
        "duracao = fim - inicio\n",
        "\n",
        "# Exibe o tempo total de inferência\n",
        "print(f\"Tempo de inferência no conjunto de teste: {duracao:.2f} segundos\")\n"
      ]
    },
    {
      "cell_type": "markdown",
      "id": "IQ8Q9JayO5E1",
      "metadata": {
        "id": "IQ8Q9JayO5E1"
      },
      "source": [
        "#### Visualização dos resultados da inferência\n",
        "\n",
        "\n"
      ]
    },
    {
      "cell_type": "markdown",
      "id": "nf7Gjp8yUuvw",
      "metadata": {
        "id": "nf7Gjp8yUuvw"
      },
      "source": [
        "A seguir, são exibidas algumas das imagens do conjunto de teste processadas pelo modelo treinado com 30 épocas. Os resultados mostram as bounding boxes geradas e as classes detectadas com suas respectivas confianças.\n",
        "\n",
        "Essas evidências visuais são importantes para demonstrar o funcionamento real do modelo e serão utilizadas na análise comparativa com o modelo treinado com 60 épocas e as outras abordagens previstas na Entrega 2."
      ]
    },
    {
      "cell_type": "code",
      "execution_count": null,
      "id": "X_MITFyCO61t",
      "metadata": {
        "colab": {
          "base_uri": "https://localhost:8080/"
        },
        "id": "X_MITFyCO61t",
        "outputId": "256ff064-80db-4cfa-c513-090b609a736d"
      },
      "outputs": [],
      "source": [
        "import glob\n",
        "from IPython.display import Image, display\n",
        "\n",
        "# Lista os arquivos resultantes da inferência\n",
        "resultado_imgs = glob.glob(f'./yolov5/runs/detect/{nome_treinamento}_test/*.jpg')\n",
        "\n",
        "# Exibe até 4 imagens para visualização\n",
        "for img_path in resultado_imgs[:4]:\n",
        "    display(Image(filename=img_path, width=500))\n"
      ]
    },
    {
      "cell_type": "markdown",
      "id": "dgoQVI2ePLbV",
      "metadata": {
        "id": "dgoQVI2ePLbV"
      },
      "source": [
        "#### Conclusão preliminar do modelo treinado com 30 épocas\n",
        "\n"
      ]
    },
    {
      "cell_type": "markdown",
      "id": "ZtCM9GRBUlqs",
      "metadata": {
        "id": "ZtCM9GRBUlqs"
      },
      "source": [
        "Com base na execução realizada, o modelo YOLOv5 treinado com 30 épocas apresentou os seguintes resultados:\n",
        "\n",
        "- O tempo total de treinamento foi de aproximadamente **192 segundos**, utilizando a GPU do Colab.\n",
        "- O tempo de inferência no conjunto de teste foi de **13,35 segundos**, com média de aproximadamente **26,9 ms por imagem** para inferência e **21,6 ms** para NMS.\n",
        "- A análise do gráfico `results.png` mostra uma boa convergência dos erros (loss), com redução progressiva e sem sinais de overfitting visíveis. Os valores de precisão e recall também aumentaram de forma consistente.\n",
        "- A métrica **mAP@0.5** se aproximou de **0.9**, o que indica excelente capacidade de detecção em um cenário com duas classes apenas.\n",
        "- O modelo identificou corretamente **6 de 8 imagens** no conjunto de teste, mantendo uma taxa prática de acerto de **75%**.\n",
        "- As duas imagens que não apresentaram detecções possivelmente envolvem limitações naturais do modelo ou características específicas das imagens, como ângulos desfavoráveis ou baixa resolução.\n",
        "\n",
        "Estes resultados servirão como base de comparação para o próximo experimento, com 60 épocas, permitindo avaliar se o aumento no número de ciclos de treinamento traz ganhos relevantes em desempenho."
      ]
    },
    {
      "cell_type": "markdown",
      "id": "aT5dkH86QP7V",
      "metadata": {
        "id": "aT5dkH86QP7V"
      },
      "source": [
        "### Treinamento do modelo com 60 épocas (YOLOv5 adaptado)\n",
        "\n",
        "Nesta etapa, será realizado um segundo treinamento do modelo YOLOv5 utilizando o mesmo dataset e os mesmos parâmetros anteriores, exceto pelo número de épocas, que foi ampliado para 60.\n",
        "\n",
        "O objetivo é observar se o aumento no tempo de treinamento resulta em melhorias nas métricas de desempenho e na capacidade de generalização do modelo. O tempo de execução será registrado para fins comparativos.\n"
      ]
    },
    {
      "cell_type": "code",
      "execution_count": null,
      "id": "7cfee827",
      "metadata": {
        "id": "7cfee827",
        "outputId": "bef9f04b-c109-4bd4-fd87-79b299567a29"
      },
      "outputs": [],
      "source": [
        "import subprocess\n",
        "import time\n",
        "\n",
        "# Caminho do arquivo de log\n",
        "nome_treinamento = \"veiculos_yolo_60ep\"\n",
        "\n",
        "log_file_path = f'{nome_treinamento}.log'\n",
        "\n",
        "# Parâmetros utilizados:\n",
        "# --img: define o tamanho das imagens de entrada (640x640 pixels)\n",
        "# --batch: número de imagens processadas por vez (tamanho do lote)\n",
        "# --epochs: número total de épocas de treinamento\n",
        "# --data: caminho do arquivo .yaml com o dataset e classes\n",
        "# --weights: modelo base pré-treinado (YOLOv5s)\n",
        "# --name: nome da pasta onde os resultados serão salvos\n",
        "\n",
        "# Comando de treinamento\n",
        "command = [\n",
        "    \"python\", \"./yolov5/train.py\",\n",
        "    \"--img\", \"640\",\n",
        "    \"--batch\", \"16\",\n",
        "    \"--epochs\", \"60\",\n",
        "    \"--data\", f\"{dataset_dir}/configuration/{yaml_filename}\",\n",
        "    \"--weights\", \"yolov5s.pt\",\n",
        "    \"--name\", f\"{nome_treinamento}\"\n",
        "]\n",
        "\n",
        "# Função para executar o comando e monitorar o processo\n",
        "def executar_treinamento(command, log_file_path):\n",
        "    with open(log_file_path, \"w\") as log_file:\n",
        "        try:\n",
        "            # Inicia o processo\n",
        "            process = subprocess.Popen(\n",
        "                command,\n",
        "                stdout=log_file,  # Redireciona stdout para o arquivo de log\n",
        "                stderr=log_file,  # Redireciona stderr para o arquivo de log\n",
        "                text=True\n",
        "            )\n",
        "\n",
        "            print(f\"Treinamento {nome_treinamento} iniciado. Acompanhe o progresso no arquivo de log.\")\n",
        "\n",
        "            # Verifica se o processo ainda está em execução\n",
        "            pontos = \"\"  # String para acumular os pontos\n",
        "            while process.poll() is None:\n",
        "                pontos += \".\"  # Adiciona um ponto a cada iteração\n",
        "                print(f\"Treinamento em andamento{pontos}\", end=\"\\r\")  # Atualiza na mesma linha\n",
        "                time.sleep(10)  # Aguarda 10 segundos antes de verificar novamente\n",
        "\n",
        "            # Verifica o código de saída\n",
        "            if process.returncode == 0:\n",
        "                print(f\"Treinamento {nome_treinamento} concluído com sucesso!\")\n",
        "            else:\n",
        "                print(f\"Erro durante o treinamento {nome_treinamento}. Verifique o log: {log_file_path}\")\n",
        "        except Exception as e:\n",
        "            print(f\"Erro ao executar o comando: {e}\")\n",
        "\n",
        "\n",
        "# Marca o tempo de início do treinamento\n",
        "inicio = time.time()\n",
        "\n",
        "# Executa o treinamento\n",
        "executar_treinamento(command, f'./logs/{log_file_path}')\n",
        "\n",
        "# Marca o tempo de término e calcula a duração\n",
        "fim = time.time()\n",
        "duracao = fim - inicio\n",
        "print(f\"Tempo de treinamento (60 épocas): {duracao:.2f} segundos\")"
      ]
    },
    {
      "cell_type": "markdown",
      "id": "V1UQAoL4Rp61",
      "metadata": {
        "id": "V1UQAoL4Rp61"
      },
      "source": [
        "#### Análise dos resultados do treinamento (60 épocas)\n",
        "\n",
        "A imagem gerada pelo YOLOv5 a partir do treinamento com 60 épocas mostra a evolução das métricas de perda, precisão, recall e mAP. Essa visualização é importante para comparar a estabilidade, a convergência e o possível ganho de desempenho em relação ao modelo treinado com 30 épocas.\n"
      ]
    },
    {
      "cell_type": "code",
      "execution_count": null,
      "id": "Zduj4DHpRst9",
      "metadata": {
        "colab": {
          "base_uri": "https://localhost:8080/"
        },
        "id": "Zduj4DHpRst9",
        "outputId": "bb71bac6-c4bd-42a0-8373-e996ebbca059"
      },
      "outputs": [],
      "source": [
        "from IPython.display import Image, display\n",
        "\n",
        "# Exibe o gráfico de métricas do treinamento com 60 épocas\n",
        "display(Image(filename=f'./yolov5/runs/train/{nome_treinamento}/results.png', width=1200))\n"
      ]
    },
    {
      "cell_type": "markdown",
      "id": "o1NDgHdrR5wl",
      "metadata": {
        "id": "o1NDgHdrR5wl"
      },
      "source": [
        "#### Inferência no conjunto de teste (modelo com 60 épocas)\n",
        "\n",
        "Utilizando agora o modelo treinado com 60 épocas, faremos a inferência nas mesmas imagens de teste, para fins de comparação direta com os resultados obtidos anteriormente com 30 épocas. O tempo de execução será registrado, e os resultados visuais serão armazenados para análise.\n"
      ]
    },
    {
      "cell_type": "code",
      "execution_count": null,
      "id": "RZmuR5fOR8FA",
      "metadata": {
        "colab": {
          "base_uri": "https://localhost:8080/"
        },
        "id": "RZmuR5fOR8FA",
        "outputId": "cdac8616-4316-48d3-dd76-21ddb28360c2"
      },
      "outputs": [],
      "source": [
        "import time\n",
        "\n",
        "# Parâmetros utilizados:\n",
        "# --weights: modelo treinado com 60 épocas\n",
        "# --img: tamanho das imagens de entrada\n",
        "# --conf: confiança mínima para exibir uma detecção\n",
        "# --source: diretório com imagens de teste\n",
        "# --name: nome da pasta de saída dos resultados\n",
        "\n",
        "# Marca o início da inferência\n",
        "inicio = time.time()\n",
        "\n",
        "# Executa a inferência\n",
        "!python ./yolov5/detect.py \\\n",
        "  --weights ./yolov5/runs/train/{nome_treinamento}/weights/best.pt \\\n",
        "  --img 640 \\\n",
        "  --conf 0.25 \\\n",
        "  --source {dataset_dir}/dataset_images/images/test \\\n",
        "  --name {nome_treinamento}_test\n",
        "\n",
        "# Marca o fim e calcula a duração\n",
        "fim = time.time()\n",
        "duracao = fim - inicio\n",
        "\n",
        "# Exibe o tempo total de inferência\n",
        "print(f\"Tempo de inferência no conjunto de teste: {duracao:.2f} segundos\")\n"
      ]
    },
    {
      "cell_type": "markdown",
      "id": "2mEZnWPxSI90",
      "metadata": {
        "id": "2mEZnWPxSI90"
      },
      "source": [
        "#### Visualização das detecções (modelo com 60 épocas)\n",
        "\n",
        "A seguir, são exibidas algumas das imagens do conjunto de teste processadas pelo modelo treinado com 60 épocas. A ideia é comparar visualmente a qualidade das detecções em relação ao modelo anterior e observar se houve ganho perceptível em precisão ou consistência.\n"
      ]
    },
    {
      "cell_type": "code",
      "execution_count": null,
      "id": "sUG1NEBESKpo",
      "metadata": {
        "colab": {
          "base_uri": "https://localhost:8080/"
        },
        "id": "sUG1NEBESKpo",
        "outputId": "f6fbcbf0-8384-4fc6-c9cc-35e253dea9da"
      },
      "outputs": [],
      "source": [
        "import glob\n",
        "from IPython.display import Image, display\n",
        "\n",
        "# Lista os arquivos resultantes da inferência\n",
        "resultado_imgs = glob.glob(f'./yolov5/runs/detect/{nome_treinamento}_test/*.jpg')\n",
        "\n",
        "# Exibe até 4 imagens\n",
        "for img_path in resultado_imgs[:4]:\n",
        "    display(Image(filename=img_path, width=500))\n"
      ]
    },
    {
      "cell_type": "markdown",
      "id": "YFdDH97kS-CM",
      "metadata": {
        "id": "YFdDH97kS-CM"
      },
      "source": [
        "#### Conclusão preliminar do modelo treinado com 60 épocas\n",
        "\n",
        "Com base na execução realizada, o modelo YOLOv5 treinado com 60 épocas apresentou os seguintes resultados:\n",
        "\n",
        "- O tempo total de treinamento foi de aproximadamente **268 segundos**, também utilizando a GPU do Colab.\n",
        "- O tempo de inferência no conjunto de teste foi de **7,72 segundos**, com média de aproximadamente **24,4 ms por imagem** para inferência e **18,5 ms** para NMS.\n",
        "- A análise do gráfico `results.png` mostra uma convergência ainda mais estável das perdas (loss), com quedas suaves e contínuas, e sem sinais de sobreajuste (overfitting).\n",
        "- As métricas **precision** e **recall** alcançaram valores próximos de 1.0, com boa estabilidade ao longo das épocas.\n",
        "- A métrica **mAP@0.5** se manteve próxima de 1.0 nas últimas épocas, enquanto a **mAP@0.5:0.95** apresentou evolução e menor oscilação em relação ao modelo anterior.\n",
        "- O modelo identificou corretamente **7 de 8 imagens** no conjunto de teste, incluindo um caso com **dupla detecção correta (Carro e Moto)**, resultando em uma taxa prática de acerto de **87,5%**.\n",
        "- Apenas uma imagem não apresentou detecção, mantendo a consistência geral e sugerindo boa capacidade de generalização.\n",
        "\n",
        "Esses resultados indicam um desempenho superior ao modelo de 30 épocas, tanto em termos quantitativos quanto qualitativos, e posicionam o modelo de 60 épocas como referência para comparação com as demais abordagens previstas na Entrega 2.\n"
      ]
    },
    {
      "cell_type": "markdown",
      "id": "_J2ld48BTmkV",
      "metadata": {
        "id": "_J2ld48BTmkV"
      },
      "source": [
        "### Comparação entre modelos: 30 vs 60 épocas\n"
      ]
    },
    {
      "cell_type": "markdown",
      "id": "4bc3a542",
      "metadata": {
        "id": "4bc3a542"
      },
      "source": [
        "Após o treinamento e a avaliação dos dois modelos YOLOv5 adaptados, é possível estabelecer uma comparação baseada em métricas quantitativas e qualitativas.\n",
        "\n",
        "### Tempo de treinamento\n",
        "\n",
        "- **30 épocas**: aproximadamente 192 segundos\n",
        "- **60 épocas**: aproximadamente 268 segundos  \n",
        "→ A duplicação das épocas resultou em um tempo 39% maior, o que é esperado e aceitável no contexto.\n",
        "\n",
        "### Tempo de inferência\n",
        "\n",
        "- **30 épocas**: 13,35 segundos (≈26,9 ms/inferência + 21,6 ms/NMS)\n",
        "- **60 épocas**: 7,72 segundos (≈24,4 ms/inferência + 18,5 ms/NMS)  \n",
        "→ O modelo de 60 épocas foi ligeiramente mais rápido, indicando otimização na arquitetura gerada.\n",
        "\n",
        "### Detecção nas imagens de teste\n",
        "\n",
        "- **30 épocas**:\n",
        "  - 6 de 8 imagens corretamente detectadas\n",
        "  - 2 imagens sem detecção\n",
        "- **60 épocas**:\n",
        "  - 7 de 8 imagens corretamente detectadas\n",
        "  - Uma das imagens apresentou detecção de **duas classes corretamente (Carro e Moto)**  \n",
        "→ Houve melhora clara na cobertura e sensibilidade do modelo.\n",
        "\n",
        "### Métricas gráficas (resultados.png)\n",
        "\n",
        "- **30 épocas**:\n",
        "  - mAP@0.5: próximo de 0.9\n",
        "  - mAP@0.5:0.95: ~0.6\n",
        "- **60 épocas**:\n",
        "  - mAP@0.5: estabilizado em 1.0\n",
        "  - mAP@0.5:0.95: próxima de 0.7 com menos flutuações  \n",
        "→ Indica melhor generalização e menor variação nas métricas.\n",
        "\n",
        "### Conclusão\n",
        "\n",
        "O modelo treinado com **60 épocas apresentou resultados superiores** em praticamente todos os aspectos: detecção prática, estabilidade gráfica e precisão nas métricas. Apesar do tempo de treinamento maior, os ganhos justificam seu uso como versão final do modelo para a próxima fase do projeto.\n",
        "\n",
        "Essas observações serão fundamentais na Entrega 2, onde este modelo será comparado com outras abordagens, como a YOLO tradicional e uma CNN treinada do zero.\n"
      ]
    },
    {
      "cell_type": "markdown",
      "id": "qOnmi3udTsmh",
      "metadata": {
        "id": "qOnmi3udTsmh"
      },
      "source": [
        "### Conclusão da Entrega 1"
      ]
    },
    {
      "cell_type": "markdown",
      "id": "ma8ceESPT6fk",
      "metadata": {
        "id": "ma8ceESPT6fk"
      },
      "source": [
        "Nesta primeira etapa do projeto, foi implementado um sistema de detecção de objetos utilizando o modelo YOLOv5 adaptado, treinado com um dataset customizado de imagens de **carros** e **motos** rotulado manualmente.\n",
        "\n",
        "Dois experimentos foram realizados: um com **30 épocas** e outro com **60 épocas**. Ambos os modelos foram treinados e avaliados com base em métricas quantitativas, desempenho prático na inferência e análise visual dos resultados.\n",
        "\n",
        "Os principais achados foram:\n",
        "\n",
        "- O modelo com **60 épocas apresentou desempenho superior**, com maior taxa de acerto e métricas mais estáveis, mesmo com um tempo de treinamento apenas moderadamente maior.\n",
        "- A **diferença nas curvas de mAP e perda** entre os dois modelos indica um ganho relevante em generalização e refinamento da detecção.\n",
        "- As imagens de teste revelaram **melhor cobertura e confiança** nas detecções do modelo com mais épocas, inclusive detectando múltiplas classes em uma única imagem.\n",
        "\n",
        "A estrutura do notebook, os tempos de execução, as saídas visuais e os resultados numéricos obtidos nesta etapa serão utilizados como base de comparação na próxima fase do projeto."
      ]
    },
    {
      "cell_type": "markdown",
      "id": "S_flNrlrUJ9k",
      "metadata": {
        "id": "S_flNrlrUJ9k"
      },
      "source": [
        "## Transição para a Entrega 2"
      ]
    },
    {
      "cell_type": "markdown",
      "id": "W4hNCvyzT9vA",
      "metadata": {
        "id": "W4hNCvyzT9vA"
      },
      "source": [
        "A partir da próxima etapa, serão avaliadas outras abordagens de visão computacional aplicadas ao mesmo problema, com o objetivo de comparar diferentes técnicas de detecção e classificação de imagens.\n",
        "\n",
        "As abordagens previstas são:\n",
        "\n",
        "1. **YOLO tradicional (pré-treinado)** — aplicado sem ajuste no dataset customizado;\n",
        "2. **CNN treinada do zero** — com foco na tarefa de classificação entre carro e moto.\n",
        "\n",
        "Essas abordagens serão analisadas com os mesmos critérios definidos na Entrega 1:\n",
        "\n",
        "- Precisão e desempenho do modelo\n",
        "- Tempo de treinamento e inferência\n",
        "- Facilidade de uso e integração\n",
        "- Qualidade dos resultados visuais\n",
        "\n",
        "A seguir, será iniciada a preparação para a implementação dessas duas novas abordagens.\n"
      ]
    },
    {
      "cell_type": "markdown",
      "id": "c72f9130",
      "metadata": {
        "id": "c72f9130"
      },
      "source": [
        "# Comparação entre Abordagens de Visão Computacional (YOLOv5, YOLO Tradicional e CNN)  \n",
        "### Referente à Entrega 2 do Projeto PBL - Fase 6\n"
      ]
    },
    {
      "cell_type": "markdown",
      "id": "vU4PY23Gb19F",
      "metadata": {
        "id": "vU4PY23Gb19F"
      },
      "source": [
        "Nesta segunda etapa, o objetivo é comparar diferentes abordagens de visão computacional aplicadas ao mesmo conjunto de dados utilizado na Entrega 1. A proposta é identificar vantagens e limitações entre técnicas de detecção e classificação baseadas em redes neurais.\n",
        "\n",
        "As abordagens implementadas são:\n",
        "\n",
        "1. YOLOv5 Adaptado (já treinado na Entrega 1)\n",
        "2. YOLO Tradicional (modelo pré-treinado, sem ajustes)\n",
        "3. CNN desenvolvida do zero (classificação entre duas classes)\n",
        "\n",
        "A análise comparativa será baseada em critérios como precisão, tempo de inferência, facilidade de implementação e aplicabilidade prática.\n"
      ]
    },
    {
      "cell_type": "markdown",
      "id": "6bd16326",
      "metadata": {
        "id": "6bd16326"
      },
      "source": [
        "### Referência: Resultado da Entrega 1 (YOLOv5 Adaptado - 60 épocas)\n"
      ]
    },
    {
      "cell_type": "markdown",
      "id": "sotR9rNFdhXI",
      "metadata": {
        "id": "sotR9rNFdhXI"
      },
      "source": [
        "Nesta etapa, utilizaremos como referência comparativa o modelo YOLOv5 treinado com 60 épocas, desenvolvido na Entrega 1.\n",
        "\n",
        "Esse modelo obteve os seguintes resultados:\n",
        "\n",
        "- Tempo de treinamento: **268 segundos**\n",
        "- Tempo de inferência: **7,72 segundos**\n",
        "- Detecção correta em **7 de 8 imagens** do conjunto de teste\n",
        "- **mAP@0.5**: ~1.0\n",
        "- **mAP@0.5:0.95**: ~0.7\n",
        "\n",
        "Abaixo está o gráfico de métricas gerado durante o treinamento deste modelo."
      ]
    },
    {
      "cell_type": "code",
      "execution_count": null,
      "id": "acba5d0b",
      "metadata": {
        "colab": {
          "base_uri": "https://localhost:8080/"
        },
        "id": "acba5d0b",
        "outputId": "bbad335e-65d7-4928-8a35-c51285bd9464"
      },
      "outputs": [],
      "source": [
        "from IPython.display import Image, display\n",
        "\n",
        "# Exibir gráfico de métricas\n",
        "print(\"Gráfico de desempenho do modelo YOLOv5 (60 épocas):\")\n",
        "display(Image(filename=f'./yolov5/runs/train/{nome_treinamento}/results.png', width=1200))\n"
      ]
    },
    {
      "cell_type": "markdown",
      "id": "54cc2964",
      "metadata": {
        "id": "54cc2964"
      },
      "source": [
        "## 1. Aplicação da YOLOv5 Tradicional (Pré-treinada)"
      ]
    },
    {
      "cell_type": "markdown",
      "id": "Gg367cMvqSNg",
      "metadata": {
        "id": "Gg367cMvqSNg"
      },
      "source": [
        "Nesta abordagem, utilizamos o modelo `yolov5s.pt` fornecido pela Ultralytics, sem ajustes no dataset customizado.\n",
        "\n",
        "Este modelo já foi treinado em um grande conjunto de dados públicos (COCO dataset), o que lhe permite detectar diversas classes genéricas. O objetivo aqui é avaliar se ele é capaz de identificar **carros** e **motos** em nosso conjunto de teste, mesmo sem ter sido adaptado para essas imagens específicas.\n",
        "\n",
        "Esta etapa também permite comparar como um modelo genérico se comporta frente a um modelo customizado, como o desenvolvido na Entrega 1."
      ]
    },
    {
      "cell_type": "code",
      "execution_count": null,
      "id": "80246785",
      "metadata": {
        "colab": {
          "base_uri": "https://localhost:8080/"
        },
        "id": "80246785",
        "outputId": "d3be2011-3c21-4ad2-e4f8-e78c2c40055e"
      },
      "outputs": [],
      "source": [
        "import time\n",
        "\n",
        "nome_treinamento = \"yolo_tradicional\"\n",
        "\n",
        "# Parâmetros utilizados:\n",
        "# --weights: define o modelo YOLOv5 a ser utilizado (pré-treinado 'yolov5s.pt')\n",
        "# --img: tamanho da imagem de entrada (640x640 pixels)\n",
        "# --conf: nível mínimo de confiança para considerar uma detecção\n",
        "# --source: diretório com as imagens do conjunto de teste\n",
        "# --name: nome da pasta onde os resultados da inferência serão salvos (dentro de runs/detect/)\n",
        "\n",
        "# Marca o início da execução\n",
        "inicio = time.time()\n",
        "\n",
        "# Executa a inferência com o modelo pré-treinado\n",
        "!python ./yolov5/detect.py \\\n",
        "  --weights yolov5s.pt \\\n",
        "  --img 640 \\\n",
        "  --conf 0.25 \\\n",
        "  --source {dataset_dir}/dataset_images/images/test \\\n",
        "  --name {nome_treinamento}_test\n",
        "\n",
        "# Marca o fim da execução e calcula a duração\n",
        "fim = time.time()\n",
        "print(f\"Tempo de inferência com YOLO pré-treinado: {fim - inicio:.2f} segundos\")\n"
      ]
    },
    {
      "cell_type": "markdown",
      "id": "Wv1w3f1Ae_Q8",
      "metadata": {
        "id": "Wv1w3f1Ae_Q8"
      },
      "source": [
        "### Visualização dos resultados da YOLOv5 Tradicional\n",
        "\n",
        "Abaixo estão algumas imagens do conjunto de teste processadas pelo modelo pré-treinado YOLOv5s. O objetivo é observar quais objetos foram detectados, como foram classificados e se há consistência nas detecções para as classes de interesse (carro e moto).\n"
      ]
    },
    {
      "cell_type": "code",
      "execution_count": null,
      "id": "UCb2-u_afByw",
      "metadata": {
        "colab": {
          "base_uri": "https://localhost:8080/",
          "height": 1000
        },
        "id": "UCb2-u_afByw",
        "outputId": "c0f7ea68-21a5-41bf-e2eb-0ab8e40fe093"
      },
      "outputs": [],
      "source": [
        "from IPython.display import Image, display\n",
        "import glob\n",
        "\n",
        "# Local dos resultados gerados pelo YOLO pré-treinado\n",
        "imagens_yolo_tradicional = glob.glob(f'./yolov5/runs/detect/{nome_treinamento}_test/*.jpg')\n",
        "\n",
        "# Exibir até 4 imagens\n",
        "for img_path in imagens_yolo_tradicional[:4]:\n",
        "    display(Image(filename=img_path, width=500))\n"
      ]
    },
    {
      "cell_type": "markdown",
      "id": "uwK8elyNfJuU",
      "metadata": {
        "id": "uwK8elyNfJuU"
      },
      "source": [
        "### Análise de desempenho do modelo YOLOv5 Tradicional (Pré-treinado)"
      ]
    },
    {
      "cell_type": "markdown",
      "id": "I3mH-FZ0fMu0",
      "metadata": {
        "id": "I3mH-FZ0fMu0"
      },
      "source": [
        "\n",
        "Ao aplicar o modelo YOLOv5s pré-treinado (sem re-treinamento) sobre as imagens do conjunto de teste, foram observadas as seguintes características e comportamentos:\n",
        "\n",
        "#### 🔹 Detecções realizadas\n",
        "- O modelo foi capaz de detectar **carros** e **motos**, que são classes presentes no dataset COCO (base de treinamento do YOLOv5 pré-treinado).\n",
        "- Em algumas imagens, foi capaz de detectar **mais de um objeto da mesma classe**, como múltiplos carros ou motos, demonstrando uma boa capacidade de identificação em ambientes com múltiplas ocorrências.\n",
        "- Algumas imagens apresentaram **detecções incorretas ou irrelevantes**, como a classificação de \"train\" ou \"truck\", indicando limitações no foco da aplicação.\n",
        "\n",
        "#### 🔹 Acertos e limitações por imagem\n",
        "- **Imagem 073**: Detecção de 3 carros e 1 moto, indicando boa sensibilidade.\n",
        "- **Imagem 074**: Detecção incorreta como \"train\", devido à vista traseira incomum do fusca.\n",
        "- **Imagem 075**: Detecção correta de um carro.\n",
        "- **Imagem 076**: Detecção como \"truck\" (possivelmente confundido com o design do Tesla Cybertruck).\n",
        "- **Imagem 077**: Detecção correta de uma moto.\n",
        "- **Imagem 078**: Detecção de 4 motos, indicando alta sensibilidade, mas possível excesso.\n",
        "- **Imagem 079**: Detecção correta de uma moto.\n",
        "- **Imagem 080**: Nenhuma detecção (moto tipo Vespa, possivelmente fora do padrão aprendido).\n",
        "\n",
        "#### 🔹 Tempo de inferência\n",
        "- O tempo total de inferência foi de aproximadamente **7,84 segundos** para processar as 8 imagens do conjunto de teste.\n",
        "- A média de tempo por imagem foi de aproximadamente **23,8 ms de inferência** e **18,7 ms de NMS**, o que representa uma performance adequada para aplicações em tempo real ou embarcadas.\n",
        "\n",
        "#### 🔹 Robustez e generalização\n",
        "- O modelo demonstrou **capacidade de generalizar** bem para contextos diversos, sendo capaz de detectar objetos mesmo em imagens não padronizadas.\n",
        "- A presença de falsos positivos e detecções de classes fora do escopo do projeto reforça o caráter **genérico** do modelo.\n",
        "\n",
        "Esses resultados demonstram que o modelo YOLOv5 pré-treinado, mesmo sem ajustes, consegue fornecer **resultados relevantes** em ambientes variados, desde que as classes estejam contempladas em seu conjunto de treinamento original.\n"
      ]
    },
    {
      "cell_type": "markdown",
      "id": "lG2-GtmHqoHI",
      "metadata": {
        "id": "lG2-GtmHqoHI"
      },
      "source": [
        "### Conclusão parcial – YOLOv5 Tradicional (Pré-treinado)"
      ]
    },
    {
      "cell_type": "markdown",
      "id": "c1eutZwrqm4B",
      "metadata": {
        "id": "c1eutZwrqm4B"
      },
      "source": [
        "O modelo YOLOv5s pré-treinado, utilizado sem re-treinamento, apresentou um desempenho satisfatório ao ser aplicado diretamente sobre as imagens do conjunto de teste do projeto.\n",
        "\n",
        "Mesmo sem ter sido treinado com o dataset específico, o modelo foi capaz de detectar corretamente diversas ocorrências das classes \"car\" e \"motorcycle\", mostrando uma boa generalização para objetos presentes em seu dataset original (COCO).\n",
        "\n",
        "Além disso, o modelo demonstrou:\n",
        "- **Capacidade de identificar múltiplos objetos por imagem**, o que é relevante em ambientes complexos.\n",
        "- **Tempo de inferência adequado** (7,84 segundos para 8 imagens), tornando-o viável para aplicações práticas.\n",
        "- **Alguns falsos positivos ou classificações irrelevantes**, como \"train\" e \"truck\", esperados em um modelo genérico.\n",
        "\n",
        "Por outro lado, a detecção incorreta de objetos incomuns (como o Tesla Cybertruck ou a traseira aberta de um fusca) e a ausência de detecção em casos menos padronizados (como a moto Vespa) indicam **limitações relacionadas à representatividade do dataset de origem** e à falta de especialização no domínio do projeto.\n",
        "\n",
        "Em resumo, o YOLO pré-treinado é uma ferramenta prática e eficaz para uso geral, oferecendo bons resultados iniciais mesmo sem personalização. No entanto, **pode não atender com a precisão exigida em contextos específicos**, como os esperados por um cliente com necessidades claramente definidas.\n"
      ]
    },
    {
      "cell_type": "markdown",
      "id": "10cfe198",
      "metadata": {
        "id": "10cfe198"
      },
      "source": [
        "## 2. Classificação com CNN do Zero (Carro vs Moto)\n",
        "\n"
      ]
    },
    {
      "cell_type": "markdown",
      "id": "tb4w_meNrEo8",
      "metadata": {
        "id": "tb4w_meNrEo8"
      },
      "source": [
        "Nesta etapa, será implementada uma rede neural convolucional simples, treinada do zero para classificar imagens entre duas categorias: \"carro\" e \"moto\".\n",
        "\n",
        "Diferente do modelo YOLO, que realiza detecção de objetos, a CNN será responsável apenas pela **classificação da imagem como um todo**, com base em características visuais.\n",
        "\n",
        "Para isso, utilizaremos as mesmas imagens da Entrega 1, reestruturando o dataset para seguir o padrão esperado por bibliotecas como `ImageDataGenerator` (Keras) ou `ImageFolder` (PyTorch).\n",
        "\n",
        "A estrutura esperada do diretório de dados é a seguinte:\n",
        "\n",
        "```\n",
        "📦 1TIAOR20242_FASE6_CAP1\n",
        "│── 📁 dataset_cnn           # Pasta principal para classificação com CNN\n",
        "│   ├── 📁 train             # Imagens utilizadas para o treinamento (64 imagens por classe)\n",
        "│   │   ├── 📁 carro         # Imagens da classe \"carro\"\n",
        "│   │   ├── 📁 moto          # Imagens da classe \"moto\"\n",
        "│   ├── 📁 val               # Imagens utilizadas para validação (8 imagens por classe)\n",
        "│   │   ├── 📁 carro         # Imagens da classe \"carro\"\n",
        "│   │   ├── 📁 moto          # Imagens da classe \"moto\"\n",
        "│   ├── 📁 test              Imagens utilizadas para avaliação final (8 imagens por classe)\n",
        "│   │   ├── 📁 carro         # Imagens da classe \"carro\"\n",
        "│   │   ├── 📁 moto          # Imagens da classe \"moto\"\n",
        "```\n",
        "\n",
        "Com essa organização, é possível carregar as imagens automaticamente com os respectivos rótulos, simplificando o processo de preparação do dataset para a CNN."
      ]
    },
    {
      "cell_type": "markdown",
      "id": "9YdW4IIwv5-d",
      "metadata": {
        "id": "9YdW4IIwv5-d"
      },
      "source": [
        "### Verificação e montagem do Google Drive\n",
        "\n",
        "Antes de carregar o dataset da CNN, verificamos se o Google Drive está montado no ambiente do Google Colab.\n",
        "\n",
        "Essa etapa é essencial, pois o ambiente pode ter sido reiniciado e a conexão com o Drive perdida desde a execução da Entrega 1.\n"
      ]
    },
    {
      "cell_type": "code",
      "execution_count": null,
      "id": "hACep1xAv8ol",
      "metadata": {
        "colab": {
          "base_uri": "https://localhost:8080/"
        },
        "id": "hACep1xAv8ol",
        "outputId": "550d81b8-cf35-4b96-b82c-da2071a7d364"
      },
      "outputs": [],
      "source": [
        "import os\n",
        "\n",
        "# Verifica se o ambiente é Google Colab ou local\n",
        "try:\n",
        "    # Verifica se está no Google Colab\n",
        "    from google.colab import drive\n",
        "    print(\"✅ Executando no Google Colab\")\n",
        "\n",
        "    # Verifica se o Google Drive já está montado\n",
        "    if not os.path.exists('/content/drive/MyDrive'):\n",
        "        print(\"🔄 Google Drive não está montado. Montando agora...\")\n",
        "        drive.mount('/content/drive')\n",
        "    else:\n",
        "        drive.mount('/content/drive', force_remount=True)\n",
        "        print(\"✅ Google Drive já está montado.\")\n",
        "\n",
        "    # Caminho no Google Drive\n",
        "    dataset_dir = \"/content/drive/MyDrive/1TIAOR20242_FASE6_CAP1/dataset_cnn\"\n",
        "\n",
        "except ImportError:\n",
        "    # Caso não esteja no Colab, executa localmente\n",
        "    print(\"✅ Executando localmente\")\n",
        "\n",
        "    # Caminho local\n",
        "    dataset_dir = os.path.abspath(\"../dataset_cnn\")\n",
        "\n",
        "# Exemplo de uso do caminho\n",
        "print(f\"Caminho dos Datasets: {dataset_dir}\")"
      ]
    },
    {
      "cell_type": "markdown",
      "id": "FTuuaRw7vDRB",
      "metadata": {
        "id": "FTuuaRw7vDRB"
      },
      "source": [
        "### Carregamento do dataset a partir do Google Drive\n",
        "\n",
        "Com o dataset já estruturado na pasta `dataset_cnn` dentro do Google Drive, vamos utilizar a biblioteca `ImageDataGenerator` da Keras para carregar e preparar os dados para treinamento, validação e teste.\n",
        "\n",
        "O carregamento será feito com base na estrutura de subpastas (`carro/` e `moto/`) já organizadas dentro dos diretórios `train`, `val` e `test`.\n",
        "\n",
        "O caminho completo do dataset no Google Drive deve ser:\n",
        "```\n",
        "/content/drive/MyDrive/1TIAOR20242_FASE6_CAP1/dataset_cnn/\n",
        "```\n",
        "\n",
        "Cada subpasta dentro de `train/`, `val/` e `test/` representa o rótulo da classe correspondente."
      ]
    },
    {
      "cell_type": "code",
      "execution_count": null,
      "id": "1Zeo0YSMwwcM",
      "metadata": {
        "colab": {
          "base_uri": "https://localhost:8080/"
        },
        "id": "1Zeo0YSMwwcM",
        "outputId": "64a2365b-c269-4ce7-95d0-632387e40a07"
      },
      "outputs": [],
      "source": [
        "import os\n",
        "\n",
        "# Função para validar as subpastas\n",
        "def validar_subpastas(dataset_dir):\n",
        "    subpastas_necessarias = ['test', 'val', 'train']\n",
        "    subpastas_existentes = os.listdir(dataset_dir) if os.path.exists(dataset_dir) else []\n",
        "\n",
        "    # Verifica se todas as subpastas necessárias estão presentes\n",
        "    subpastas_faltando = [pasta for pasta in subpastas_necessarias if pasta not in subpastas_existentes]\n",
        "\n",
        "    if subpastas_faltando:\n",
        "        print(\"\\033[91m❌ ERRO: As seguintes subpastas estão faltando no diretório:\\033[0m\")\n",
        "        for pasta in subpastas_faltando:\n",
        "            print(f\"  - {pasta}\")\n",
        "        print(\"\\033[93m⚠️ Verifique o caminho do dataset e a estrutura esperada.\\033[0m\")\n",
        "    else:\n",
        "        print(\"\\033[92m✅ Todas as subpastas necessárias estão presentes:\\033[0m\")\n",
        "        for pasta in subpastas_necessarias:\n",
        "            print(f\"  - {pasta}\")\n",
        "\n",
        "# Valida as subpastas\n",
        "validar_subpastas(dataset_dir)"
      ]
    },
    {
      "cell_type": "code",
      "execution_count": null,
      "id": "9a510f6d",
      "metadata": {
        "colab": {
          "base_uri": "https://localhost:8080/"
        },
        "id": "9a510f6d",
        "outputId": "f48af55e-c039-4b38-a282-394d10efcb6b"
      },
      "outputs": [],
      "source": [
        "from tensorflow.keras.preprocessing.image import ImageDataGenerator\n",
        "\n",
        "# Tamanhos e parâmetros\n",
        "image_size = (224, 224)\n",
        "batch_size = 16\n",
        "\n",
        "# Pré-processamento básico: reescala os pixels para o intervalo [0, 1]\n",
        "datagen = ImageDataGenerator(rescale=1./255)\n",
        "\n",
        "# Carregamento dos dados\n",
        "train_generator = datagen.flow_from_directory(\n",
        "    directory=f\"{dataset_dir}/train\",\n",
        "    target_size=image_size,\n",
        "    batch_size=batch_size,\n",
        "    class_mode='binary'  # classificação binária\n",
        ")\n",
        "\n",
        "val_generator = datagen.flow_from_directory(\n",
        "    directory=f\"{dataset_dir}/val\",\n",
        "    target_size=image_size,\n",
        "    batch_size=batch_size,\n",
        "    class_mode='binary'\n",
        ")\n",
        "\n",
        "test_generator = datagen.flow_from_directory(\n",
        "    directory=f\"{dataset_dir}/test\",\n",
        "    target_size=image_size,\n",
        "    batch_size=batch_size,\n",
        "    class_mode='binary',\n",
        "    shuffle=False  # importante para avaliação\n",
        ")\n"
      ]
    },
    {
      "cell_type": "markdown",
      "id": "3xQ5-qt71FDc",
      "metadata": {
        "id": "3xQ5-qt71FDc"
      },
      "source": [
        "## Definição da CNN (Rede Neural Convolucional)\n",
        "\n",
        "A rede definida a seguir tem como objetivo classificar imagens entre duas categorias: \"carro\" e \"moto\".\n",
        "\n",
        "Trata-se de uma arquitetura simples, ideal para bases de dados menores como a utilizada neste projeto. A rede é composta por:\n",
        "\n",
        "- Três blocos de camadas convolucionais + max pooling;\n",
        "- Camada de flatten (achatar os filtros);\n",
        "- Duas camadas densas (fully connected), sendo a última com ativação sigmoide para classificação binária.\n",
        "\n",
        "A perda será calculada com `binary_crossentropy`, e a métrica principal será a **acurácia**.\n"
      ]
    },
    {
      "cell_type": "code",
      "execution_count": null,
      "id": "GP0k60W01Ghs",
      "metadata": {
        "colab": {
          "base_uri": "https://localhost:8080/",
          "height": 531
        },
        "id": "GP0k60W01Ghs",
        "outputId": "b4ac56f8-e088-49a2-a528-5a8de5132b2f"
      },
      "outputs": [],
      "source": [
        "from tensorflow.keras.models import Sequential\n",
        "from tensorflow.keras.layers import Conv2D, MaxPooling2D, Flatten, Dense, Dropout\n",
        "from tensorflow.keras.optimizers import Adam\n",
        "\n",
        "# Arquitetura da CNN\n",
        "model = Sequential([\n",
        "    Conv2D(32, (3, 3), activation='relu', input_shape=(224, 224, 3)),\n",
        "    MaxPooling2D(2, 2),\n",
        "\n",
        "    Conv2D(64, (3, 3), activation='relu'),\n",
        "    MaxPooling2D(2, 2),\n",
        "\n",
        "    Conv2D(128, (3, 3), activation='relu'),\n",
        "    MaxPooling2D(2, 2),\n",
        "\n",
        "    Flatten(),\n",
        "\n",
        "    Dense(128, activation='relu'),\n",
        "    Dropout(0.3),\n",
        "\n",
        "    Dense(1, activation='sigmoid')  # Saída binária: 0 ou 1\n",
        "])\n",
        "\n",
        "# Compilação do modelo\n",
        "model.compile(\n",
        "    optimizer=Adam(learning_rate=0.0001),\n",
        "    loss='binary_crossentropy',\n",
        "    metrics=['accuracy']\n",
        ")\n",
        "\n",
        "# Resumo do modelo\n",
        "model.summary()\n"
      ]
    },
    {
      "cell_type": "markdown",
      "id": "VU_ChSkq031A",
      "metadata": {
        "id": "VU_ChSkq031A"
      },
      "source": [
        "### Treinamento do modelo CNN"
      ]
    },
    {
      "cell_type": "markdown",
      "id": "ymqRNe-S02fw",
      "metadata": {
        "id": "ymqRNe-S02fw"
      },
      "source": [
        "\n",
        "\n",
        "Com os dados devidamente organizados e carregados, o modelo convolucional será treinado por um número definido de épocas.\n",
        "\n",
        "Durante o treinamento, serão observadas as métricas de acurácia e perda (**loss**) tanto para o conjunto de **treinamento** quanto para o de **validação**, com o objetivo de identificar a evolução do aprendizado da rede e eventuais indícios de overfitting.\n",
        "\n",
        "Como o conjunto de dados é relativamente pequeno, utilizaremos um número moderado de épocas, evitando o risco de sobreajuste. Os resultados serão registrados para posterior análise comparativa com as abordagens baseadas em YOLO.\n"
      ]
    },
    {
      "cell_type": "code",
      "execution_count": null,
      "id": "IqG3Owz53Amd",
      "metadata": {
        "colab": {
          "base_uri": "https://localhost:8080/"
        },
        "id": "IqG3Owz53Amd",
        "outputId": "635b3380-454e-4900-dc0e-a04696af535a"
      },
      "outputs": [],
      "source": [
        "print(\"🔍 Dimensão do batch de treino:\", train_generator.image_shape)\n",
        "print(\"🔢 Classes detectadas:\", train_generator.class_indices)\n"
      ]
    },
    {
      "cell_type": "code",
      "execution_count": null,
      "id": "TJX9P8_X071s",
      "metadata": {
        "colab": {
          "base_uri": "https://localhost:8080/"
        },
        "id": "TJX9P8_X071s",
        "outputId": "cb4a84e2-e9e2-449e-f505-93d18b69f2d9"
      },
      "outputs": [],
      "source": [
        "# Parâmetros\n",
        "epochs = 30\n",
        "\n",
        "# Treinamento do modelo\n",
        "history = model.fit(\n",
        "    train_generator,\n",
        "    validation_data=val_generator,\n",
        "    epochs=epochs,\n",
        "    verbose=1\n",
        ")"
      ]
    },
    {
      "cell_type": "code",
      "execution_count": null,
      "id": "iF_EO9cB21Ro",
      "metadata": {
        "colab": {
          "base_uri": "https://localhost:8080/",
          "height": 468
        },
        "id": "iF_EO9cB21Ro",
        "outputId": "bd4a82da-6932-48d4-b642-b382f1ab62a3"
      },
      "outputs": [],
      "source": [
        "import matplotlib.pyplot as plt\n",
        "\n",
        "def plot_training_history(history):\n",
        "    acc = history.history['accuracy']\n",
        "    val_acc = history.history['val_accuracy']\n",
        "    loss = history.history['loss']\n",
        "    val_loss = history.history['val_loss']\n",
        "    epochs_range = range(len(acc))\n",
        "\n",
        "    plt.figure(figsize=(14, 5))\n",
        "\n",
        "    plt.subplot(1, 2, 1)\n",
        "    plt.plot(epochs_range, acc, label='Acurácia Treino')\n",
        "    plt.plot(epochs_range, val_acc, label='Acurácia Validação')\n",
        "    plt.legend(loc='lower right')\n",
        "    plt.title('Acurácia durante o treinamento')\n",
        "\n",
        "    plt.subplot(1, 2, 2)\n",
        "    plt.plot(epochs_range, loss, label='Perda Treino')\n",
        "    plt.plot(epochs_range, val_loss, label='Perda Validação')\n",
        "    plt.legend(loc='upper right')\n",
        "    plt.title('Perda durante o treinamento')\n",
        "\n",
        "    plt.show()\n",
        "\n",
        "plot_training_history(history)\n"
      ]
    },
    {
      "cell_type": "markdown",
      "id": "837ac955",
      "metadata": {
        "id": "837ac955"
      },
      "source": [
        "## COMPARATIVO DOS MODELOS"
      ]
    },
    {
      "cell_type": "code",
      "execution_count": null,
      "id": "1f880be2",
      "metadata": {
        "id": "1f880be2"
      },
      "outputs": [],
      "source": []
    },
    {
      "cell_type": "code",
      "execution_count": null,
      "id": "97f9e297",
      "metadata": {
        "id": "97f9e297"
      },
      "outputs": [],
      "source": []
    },
    {
      "cell_type": "code",
      "execution_count": null,
      "id": "9f5bf461",
      "metadata": {
        "id": "9f5bf461"
      },
      "outputs": [],
      "source": []
    }
  ],
  "metadata": {
    "accelerator": "GPU",
    "colab": {
      "gpuType": "T4",
      "provenance": []
    },
    "kernelspec": {
      "display_name": ".venv",
      "language": "python",
      "name": "python3"
    },
    "language_info": {
      "codemirror_mode": {
        "name": "ipython",
        "version": 3
      },
      "file_extension": ".py",
      "mimetype": "text/x-python",
      "name": "python",
      "nbconvert_exporter": "python",
      "pygments_lexer": "ipython3",
      "version": "3.12.6"
    }
  },
  "nbformat": 4,
  "nbformat_minor": 5
}
