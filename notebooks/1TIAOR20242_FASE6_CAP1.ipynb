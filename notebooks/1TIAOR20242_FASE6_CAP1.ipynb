{
 "cells": [
  {
   "cell_type": "markdown",
   "id": "43cc36c9",
   "metadata": {},
   "source": [
    "## ENTREGA 1"
   ]
  },
  {
   "cell_type": "code",
   "execution_count": 3,
   "id": "1da43792",
   "metadata": {},
   "outputs": [
    {
     "ename": "ModuleNotFoundError",
     "evalue": "No module named 'google'",
     "output_type": "error",
     "traceback": [
      "\u001b[31m---------------------------------------------------------------------------\u001b[39m",
      "\u001b[31mModuleNotFoundError\u001b[39m                       Traceback (most recent call last)",
      "\u001b[36mCell\u001b[39m\u001b[36m \u001b[39m\u001b[32mIn[3]\u001b[39m\u001b[32m, line 1\u001b[39m\n\u001b[32m----> \u001b[39m\u001b[32m1\u001b[39m \u001b[38;5;28;01mfrom\u001b[39;00m\u001b[38;5;250m \u001b[39m\u001b[34;01mgoogle\u001b[39;00m\u001b[34;01m.\u001b[39;00m\u001b[34;01mcolab\u001b[39;00m\u001b[38;5;250m \u001b[39m\u001b[38;5;28;01mimport\u001b[39;00m drive\n\u001b[32m      2\u001b[39m drive.mount(\u001b[33m'\u001b[39m\u001b[33m/content/drive\u001b[39m\u001b[33m'\u001b[39m)\n",
      "\u001b[31mModuleNotFoundError\u001b[39m: No module named 'google'"
     ]
    }
   ],
   "source": [
    "from google.colab import drive\n",
    "drive.mount('/content/drive')"
   ]
  },
  {
   "cell_type": "markdown",
   "id": "4bc3a542",
   "metadata": {},
   "source": [
    "### Conclusão\n",
    "\n",
    "O desempenho la la la la"
   ]
  },
  {
   "cell_type": "markdown",
   "id": "c72f9130",
   "metadata": {},
   "source": [
    "## ENTREGA 2"
   ]
  },
  {
   "cell_type": "markdown",
   "id": "6bd16326",
   "metadata": {},
   "source": [
    "### RESULTADOS YOLO ADAPTAVEL"
   ]
  },
  {
   "cell_type": "code",
   "execution_count": null,
   "id": "acba5d0b",
   "metadata": {},
   "outputs": [],
   "source": []
  },
  {
   "cell_type": "markdown",
   "id": "54cc2964",
   "metadata": {},
   "source": [
    "### YOLO PADRÃO"
   ]
  },
  {
   "cell_type": "code",
   "execution_count": null,
   "id": "80246785",
   "metadata": {},
   "outputs": [],
   "source": []
  },
  {
   "cell_type": "markdown",
   "id": "10cfe198",
   "metadata": {},
   "source": [
    "### CNN"
   ]
  },
  {
   "cell_type": "code",
   "execution_count": null,
   "id": "9a510f6d",
   "metadata": {},
   "outputs": [],
   "source": []
  },
  {
   "cell_type": "markdown",
   "id": "837ac955",
   "metadata": {},
   "source": [
    "### COMPARATIVO DOS MODELOS"
   ]
  },
  {
   "cell_type": "code",
   "execution_count": null,
   "id": "1f880be2",
   "metadata": {},
   "outputs": [],
   "source": []
  }
 ],
 "metadata": {
  "kernelspec": {
   "display_name": ".venv",
   "language": "python",
   "name": "python3"
  },
  "language_info": {
   "codemirror_mode": {
    "name": "ipython",
    "version": 3
   },
   "file_extension": ".py",
   "mimetype": "text/x-python",
   "name": "python",
   "nbconvert_exporter": "python",
   "pygments_lexer": "ipython3",
   "version": "3.13.3"
  }
 },
 "nbformat": 4,
 "nbformat_minor": 5
}
